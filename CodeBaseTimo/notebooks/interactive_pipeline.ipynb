{
 "cells": [
  {
   "cell_type": "code",
   "execution_count": 1,
   "metadata": {},
   "outputs": [],
   "source": [
    "import numpy as np\n",
    "import pandas as pd\n",
    "import datetime as dt\n",
    "import matplotlib.pyplot as plt\n",
    "import cv2"
   ]
  },
  {
   "cell_type": "code",
   "execution_count": 2,
   "metadata": {},
   "outputs": [],
   "source": [
    "train_data_names = pd.read_csv('../data/df_final_image_data.csv')\n",
    "train_data_names['Date'] = pd.to_datetime(train_data_names['Date'])\n",
    "from os import listdir\n",
    "from os.path import isfile, join\n",
    "my_path = 'D:\\\\Indas\\\\Preprocessed\\\\Preprocessed\\\\NOK_samples_xray\\\\004'"
   ]
  },
  {
   "cell_type": "code",
   "execution_count": 24,
   "metadata": {},
   "outputs": [
    {
     "data": {
      "text/plain": [
       "0       True\n",
       "1       True\n",
       "2       True\n",
       "3       True\n",
       "4       True\n",
       "       ...  \n",
       "150    False\n",
       "151    False\n",
       "152    False\n",
       "153    False\n",
       "154    False\n",
       "Name: Date, Length: 155, dtype: bool"
      ]
     },
     "execution_count": 24,
     "metadata": {},
     "output_type": "execute_result"
    }
   ],
   "source": [
    "train_data_names['Date'].drop_duplicates()[0] ==  train_data_names['Date'] "
   ]
  },
  {
   "cell_type": "code",
   "execution_count": 3,
   "metadata": {},
   "outputs": [],
   "source": [
    "idx_0206 = (train_data_names['Date'] == dt.datetime(2022, 2, 6) )\n",
    "idx_OK = train_data_names.group == 'OK'"
   ]
  },
  {
   "cell_type": "code",
   "execution_count": 4,
   "metadata": {},
   "outputs": [],
   "source": [
    "img_arr_02_06_OK = np.array([\n",
    "    cv2.imread( my_path + '\\\\' + img_name, cv2.IMREAD_GRAYSCALE) for  img_name in train_data_names.name[np.logical_and(idx_0206, idx_OK)].values\n",
    "    ])\n",
    "img_arr_02_06_NOK = np.array(\n",
    "    [cv2.imread( my_path + '\\\\' + img_name, cv2.IMREAD_GRAYSCALE) for  img_name in train_data_names.name[np.logical_and(idx_0206, idx_OK.__invert__())].values\n",
    "     ])"
   ]
  },
  {
   "cell_type": "code",
   "execution_count": 11,
   "metadata": {},
   "outputs": [],
   "source": [
    "test_info = train_data_names[np.logical_and(idx_0206, idx_OK.__invert__())]"
   ]
  },
  {
   "cell_type": "code",
   "execution_count": 69,
   "metadata": {},
   "outputs": [],
   "source": [
    "exec(open('../rawCode/Reconstructer_Classes.py').read())\n",
    "exec(open('../rawCode/HelperFunctions.py').read())\n",
    "exec(open('../rawCode/Filter_Classes.py').read())"
   ]
  },
  {
   "cell_type": "code",
   "execution_count": 24,
   "metadata": {},
   "outputs": [],
   "source": [
    "def MapDetectorPipeline(type, sg, nc, th, std_th, errG_op, errG_cl, errG_threshold, img_array_train, img_array_test):\n",
    "    Reconstructer = pcaRecon(type, sg, nc)\n",
    "    Reconstructer.fit(img_array_train)\n",
    "    TrainReconstructions = np.array([Reconstructer.reconstruct(img_array_train[i,:,:]) for i in range(img_array_train.shape[0])])\n",
    "    THFilter = threshold_filter(th)\n",
    "    StdFilter = std_filter(std_th, 2)\n",
    "    StdFilter.fit(TrainReconstructions, img_array_train)\n",
    "    EgFilter = errGrowth_filter(errG_op, errG_cl, errG_threshold)\n",
    "    mFilter = morphological_filter(1)\n",
    "    del img_array_train\n",
    "    del TrainReconstructions\n",
    "    ErrTestReconstructions = [Reconstructer.reconstruct(img_array_test[i,:,:]) - img_array_test[i,:,:]  for i in range(img_array_test.shape[0])]\n",
    "    th_filtered_TestReconstructions = [THFilter.filter(recon) for recon in ErrTestReconstructions]\n",
    "    std_filtered_TestReconstructions = [StdFilter.filter(recon) for recon in th_filtered_TestReconstructions]\n",
    "    eg_filtered_TestReconstructions = [EgFilter.filter(recon) for recon in std_filtered_TestReconstructions]\n",
    "    del ErrTestReconstructions\n",
    "    del th_filtered_TestReconstructions\n",
    "    return([[mFilter.filter(std_fil) for std_fil in  std_filtered_TestReconstructions], eg_filtered_TestReconstructions] )"
   ]
  },
  {
   "cell_type": "code",
   "execution_count": 8,
   "metadata": {},
   "outputs": [],
   "source": [
    "def evaluateErrorList(errMap, df):\n",
    "    res_bool = []\n",
    "    no_cl = []\n",
    "    for i in range(len(errMap)):\n",
    "        r_min, r_max,c_min, c_max = df.iloc[i][['row_min', 'row_max', 'col_min', 'col_max']]\n",
    "        b, cl = evaluate_error_map(errMap[i] > 0, r_min, r_max, c_min, c_max)\n",
    "        res_bool.append(b)\n",
    "        no_cl.append(cl) \n",
    "    return(pd.DataFrame({'error_included': res_bool, 'number_of_clusters': no_cl}))"
   ]
  },
  {
   "cell_type": "code",
   "execution_count": 25,
   "metadata": {},
   "outputs": [],
   "source": [
    "row_std, row_eG = MapDetectorPipeline('row', sg = 144, nc = 65, th =15, std_th = 3, errG_op = 1, errG_cl =3, errG_threshold = 5, img_array_train = img_arr_02_06_OK, img_array_test = img_arr_02_06_NOK )"
   ]
  },
  {
   "cell_type": "code",
   "execution_count": 27,
   "metadata": {},
   "outputs": [
    {
     "data": {
      "text/plain": [
       "error_included          0.916667\n",
       "number_of_clusters    901.500000\n",
       "dtype: float64"
      ]
     },
     "execution_count": 27,
     "metadata": {},
     "output_type": "execute_result"
    }
   ],
   "source": [
    "evaluateErrorList(row_std, test_info).mean()"
   ]
  },
  {
   "cell_type": "code",
   "execution_count": 26,
   "metadata": {},
   "outputs": [
    {
     "data": {
      "text/plain": [
       "error_included          0.916667\n",
       "number_of_clusters    287.916667\n",
       "dtype: float64"
      ]
     },
     "execution_count": 26,
     "metadata": {},
     "output_type": "execute_result"
    }
   ],
   "source": [
    "evaluateErrorList(row_eG, test_info).mean()"
   ]
  },
  {
   "cell_type": "code",
   "execution_count": 29,
   "metadata": {},
   "outputs": [],
   "source": [
    "col_std, col_eG = MapDetectorPipeline('col', sg = 96, nc = 35, th =15, std_th = 3, errG_op =1, errG_cl =3, errG_threshold = 5, img_array_train = img_arr_02_06_OK, img_array_test = img_arr_02_06_NOK )"
   ]
  },
  {
   "cell_type": "code",
   "execution_count": 30,
   "metadata": {},
   "outputs": [
    {
     "data": {
      "text/plain": [
       "error_included          0.916667\n",
       "number_of_clusters    885.791667\n",
       "dtype: float64"
      ]
     },
     "execution_count": 30,
     "metadata": {},
     "output_type": "execute_result"
    }
   ],
   "source": [
    "evaluateErrorList(col_std, test_info).mean()"
   ]
  },
  {
   "cell_type": "code",
   "execution_count": 31,
   "metadata": {},
   "outputs": [
    {
     "data": {
      "text/plain": [
       "error_included          0.916667\n",
       "number_of_clusters    280.083333\n",
       "dtype: float64"
      ]
     },
     "execution_count": 31,
     "metadata": {},
     "output_type": "execute_result"
    }
   ],
   "source": [
    "evaluateErrorList(col_eG, test_info).mean()"
   ]
  },
  {
   "cell_type": "code",
   "execution_count": 44,
   "metadata": {},
   "outputs": [],
   "source": [
    "sub_std, sub_eG = MapDetectorPipeline('sub', sg = 24, nc = 25, th =15, std_th = 3, errG_op =1, errG_cl =3, errG_threshold = 5, img_array_train = img_arr_02_06_OK, img_array_test = img_arr_02_06_NOK )"
   ]
  },
  {
   "cell_type": "code",
   "execution_count": 45,
   "metadata": {},
   "outputs": [
    {
     "data": {
      "text/plain": [
       "error_included          0.958333\n",
       "number_of_clusters    630.416667\n",
       "dtype: float64"
      ]
     },
     "execution_count": 45,
     "metadata": {},
     "output_type": "execute_result"
    }
   ],
   "source": [
    "evaluateErrorList(sub_std, test_info).mean()"
   ]
  },
  {
   "cell_type": "code",
   "execution_count": 46,
   "metadata": {},
   "outputs": [
    {
     "data": {
      "text/plain": [
       "error_included          0.875000\n",
       "number_of_clusters    284.583333\n",
       "dtype: float64"
      ]
     },
     "execution_count": 46,
     "metadata": {},
     "output_type": "execute_result"
    }
   ],
   "source": [
    "evaluateErrorList(sub_eG, test_info).mean()"
   ]
  },
  {
   "cell_type": "code",
   "execution_count": 47,
   "metadata": {},
   "outputs": [],
   "source": [
    "aug_mer_fil = augmented_merge_filter(3)"
   ]
  },
  {
   "cell_type": "code",
   "execution_count": 48,
   "metadata": {},
   "outputs": [
    {
     "data": {
      "text/plain": [
       "error_included         0.666667\n",
       "number_of_clusters    99.375000\n",
       "dtype: float64"
      ]
     },
     "execution_count": 48,
     "metadata": {},
     "output_type": "execute_result"
    }
   ],
   "source": [
    "evaluateErrorList([aug_mer_fil.filter_merge([sub_std[i], row_std[i], col_std[i]]) for i in range(len(sub_std))], test_info).mean()"
   ]
  },
  {
   "cell_type": "code",
   "execution_count": 50,
   "metadata": {},
   "outputs": [
    {
     "data": {
      "text/html": [
       "<div>\n",
       "<style scoped>\n",
       "    .dataframe tbody tr th:only-of-type {\n",
       "        vertical-align: middle;\n",
       "    }\n",
       "\n",
       "    .dataframe tbody tr th {\n",
       "        vertical-align: top;\n",
       "    }\n",
       "\n",
       "    .dataframe thead th {\n",
       "        text-align: right;\n",
       "    }\n",
       "</style>\n",
       "<table border=\"1\" class=\"dataframe\">\n",
       "  <thead>\n",
       "    <tr style=\"text-align: right;\">\n",
       "      <th></th>\n",
       "      <th>error_included</th>\n",
       "      <th>number_of_clusters</th>\n",
       "    </tr>\n",
       "  </thead>\n",
       "  <tbody>\n",
       "    <tr>\n",
       "      <th>0</th>\n",
       "      <td>True</td>\n",
       "      <td>16</td>\n",
       "    </tr>\n",
       "    <tr>\n",
       "      <th>1</th>\n",
       "      <td>False</td>\n",
       "      <td>15</td>\n",
       "    </tr>\n",
       "    <tr>\n",
       "      <th>2</th>\n",
       "      <td>True</td>\n",
       "      <td>16</td>\n",
       "    </tr>\n",
       "    <tr>\n",
       "      <th>3</th>\n",
       "      <td>False</td>\n",
       "      <td>8</td>\n",
       "    </tr>\n",
       "    <tr>\n",
       "      <th>4</th>\n",
       "      <td>True</td>\n",
       "      <td>15</td>\n",
       "    </tr>\n",
       "    <tr>\n",
       "      <th>5</th>\n",
       "      <td>True</td>\n",
       "      <td>17</td>\n",
       "    </tr>\n",
       "    <tr>\n",
       "      <th>6</th>\n",
       "      <td>True</td>\n",
       "      <td>10</td>\n",
       "    </tr>\n",
       "    <tr>\n",
       "      <th>7</th>\n",
       "      <td>True</td>\n",
       "      <td>69</td>\n",
       "    </tr>\n",
       "    <tr>\n",
       "      <th>8</th>\n",
       "      <td>True</td>\n",
       "      <td>37</td>\n",
       "    </tr>\n",
       "    <tr>\n",
       "      <th>9</th>\n",
       "      <td>True</td>\n",
       "      <td>27</td>\n",
       "    </tr>\n",
       "    <tr>\n",
       "      <th>10</th>\n",
       "      <td>False</td>\n",
       "      <td>13</td>\n",
       "    </tr>\n",
       "    <tr>\n",
       "      <th>11</th>\n",
       "      <td>False</td>\n",
       "      <td>26</td>\n",
       "    </tr>\n",
       "    <tr>\n",
       "      <th>12</th>\n",
       "      <td>False</td>\n",
       "      <td>31</td>\n",
       "    </tr>\n",
       "    <tr>\n",
       "      <th>13</th>\n",
       "      <td>True</td>\n",
       "      <td>12</td>\n",
       "    </tr>\n",
       "    <tr>\n",
       "      <th>14</th>\n",
       "      <td>False</td>\n",
       "      <td>12</td>\n",
       "    </tr>\n",
       "    <tr>\n",
       "      <th>15</th>\n",
       "      <td>True</td>\n",
       "      <td>14</td>\n",
       "    </tr>\n",
       "    <tr>\n",
       "      <th>16</th>\n",
       "      <td>False</td>\n",
       "      <td>15</td>\n",
       "    </tr>\n",
       "    <tr>\n",
       "      <th>17</th>\n",
       "      <td>True</td>\n",
       "      <td>19</td>\n",
       "    </tr>\n",
       "    <tr>\n",
       "      <th>18</th>\n",
       "      <td>False</td>\n",
       "      <td>14</td>\n",
       "    </tr>\n",
       "    <tr>\n",
       "      <th>19</th>\n",
       "      <td>True</td>\n",
       "      <td>19</td>\n",
       "    </tr>\n",
       "    <tr>\n",
       "      <th>20</th>\n",
       "      <td>True</td>\n",
       "      <td>26</td>\n",
       "    </tr>\n",
       "    <tr>\n",
       "      <th>21</th>\n",
       "      <td>False</td>\n",
       "      <td>21</td>\n",
       "    </tr>\n",
       "    <tr>\n",
       "      <th>22</th>\n",
       "      <td>True</td>\n",
       "      <td>25</td>\n",
       "    </tr>\n",
       "    <tr>\n",
       "      <th>23</th>\n",
       "      <td>True</td>\n",
       "      <td>24</td>\n",
       "    </tr>\n",
       "  </tbody>\n",
       "</table>\n",
       "</div>"
      ],
      "text/plain": [
       "    error_included  number_of_clusters\n",
       "0             True                  16\n",
       "1            False                  15\n",
       "2             True                  16\n",
       "3            False                   8\n",
       "4             True                  15\n",
       "5             True                  17\n",
       "6             True                  10\n",
       "7             True                  69\n",
       "8             True                  37\n",
       "9             True                  27\n",
       "10           False                  13\n",
       "11           False                  26\n",
       "12           False                  31\n",
       "13            True                  12\n",
       "14           False                  12\n",
       "15            True                  14\n",
       "16           False                  15\n",
       "17            True                  19\n",
       "18           False                  14\n",
       "19            True                  19\n",
       "20            True                  26\n",
       "21           False                  21\n",
       "22            True                  25\n",
       "23            True                  24"
      ]
     },
     "execution_count": 50,
     "metadata": {},
     "output_type": "execute_result"
    }
   ],
   "source": [
    "evaluateErrorList([aug_mer_fil.filter_merge([sub_eG[i], row_eG[i], col_eG[i]]) for i in range(len(sub_std))], test_info)"
   ]
  },
  {
   "cell_type": "code",
   "execution_count": 52,
   "metadata": {},
   "outputs": [],
   "source": [
    "del sub_std, sub_eG, col_std, col_eG, row_std, row_eG "
   ]
  },
  {
   "cell_type": "code",
   "execution_count": 54,
   "metadata": {},
   "outputs": [],
   "source": [
    "def MapDetectorPipelineQuantiles(type, sg, nc, th, errG_op, errG_cl, errG_threshold, img_array_train, img_array_test):\n",
    "    Reconstructer = pcaRecon(type, sg, nc)\n",
    "    Reconstructer.fit(img_array_train)\n",
    "    TrainReconstructions = np.array([Reconstructer.reconstruct(img_array_train[i,:,:]) for i in range(img_array_train.shape[0])])\n",
    "    THFilter = threshold_filter(th)\n",
    "    q95Filter = quantile_filter(.95)\n",
    "    q95Filter.fit(TrainReconstructions, img_array_train)\n",
    "    EgFilter = errGrowth_filter(errG_op, errG_cl, errG_threshold)\n",
    "    mFilter = morphological_filter(1)\n",
    "    del img_array_train\n",
    "    del TrainReconstructions\n",
    "    ErrTestReconstructions = [Reconstructer.reconstruct(img_array_test[i,:,:]) - img_array_test[i,:,:]  for i in range(img_array_test.shape[0])]\n",
    "    th_filtered_TestReconstructions = [THFilter.filter(recon) for recon in ErrTestReconstructions]\n",
    "    q95_filtered_TestReconstructions = [q95Filter.filter(recon) for recon in th_filtered_TestReconstructions]\n",
    "    eg_filtered_TestReconstructions = [EgFilter.filter(recon) for recon in q95_filtered_TestReconstructions]\n",
    "    del ErrTestReconstructions\n",
    "    del th_filtered_TestReconstructions\n",
    "    return([[mFilter.filter(std_fil) for std_fil in  q95_filtered_TestReconstructions], eg_filtered_TestReconstructions] )"
   ]
  },
  {
   "cell_type": "code",
   "execution_count": 55,
   "metadata": {},
   "outputs": [],
   "source": [
    "row_std, row_eG = MapDetectorPipelineQuantiles('row', sg = 144, nc = 65, th =15, errG_op=2, errG_cl =3, errG_threshold = 5, img_array_train = img_arr_02_06_OK, img_array_test = img_arr_02_06_NOK )\n",
    "col_std, col_eG = MapDetectorPipelineQuantiles('col', sg = 96, nc = 35, th =15, errG_op=2, errG_cl =3, errG_threshold = 5, img_array_train = img_arr_02_06_OK, img_array_test = img_arr_02_06_NOK )\n",
    "sub_std, sub_eG = MapDetectorPipelineQuantiles('sub', sg = 24, nc = 25, th =15, errG_op=2, errG_cl =3, errG_threshold = 5, img_array_train = img_arr_02_06_OK, img_array_test = img_arr_02_06_NOK )"
   ]
  },
  {
   "cell_type": "code",
   "execution_count": 87,
   "metadata": {},
   "outputs": [
    {
     "data": {
      "text/html": [
       "<div>\n",
       "<style scoped>\n",
       "    .dataframe tbody tr th:only-of-type {\n",
       "        vertical-align: middle;\n",
       "    }\n",
       "\n",
       "    .dataframe tbody tr th {\n",
       "        vertical-align: top;\n",
       "    }\n",
       "\n",
       "    .dataframe thead th {\n",
       "        text-align: right;\n",
       "    }\n",
       "</style>\n",
       "<table border=\"1\" class=\"dataframe\">\n",
       "  <thead>\n",
       "    <tr style=\"text-align: right;\">\n",
       "      <th></th>\n",
       "      <th>error_included</th>\n",
       "      <th>number_of_clusters</th>\n",
       "      <th>Methods</th>\n",
       "      <th>Date</th>\n",
       "    </tr>\n",
       "  </thead>\n",
       "  <tbody>\n",
       "    <tr>\n",
       "      <th>0</th>\n",
       "      <td>True</td>\n",
       "      <td>51</td>\n",
       "      <td>rowEg</td>\n",
       "      <td>2022-02-06</td>\n",
       "    </tr>\n",
       "    <tr>\n",
       "      <th>1</th>\n",
       "      <td>True</td>\n",
       "      <td>45</td>\n",
       "      <td>rowEg</td>\n",
       "      <td>2022-02-06</td>\n",
       "    </tr>\n",
       "    <tr>\n",
       "      <th>2</th>\n",
       "      <td>True</td>\n",
       "      <td>76</td>\n",
       "      <td>rowEg</td>\n",
       "      <td>2022-02-06</td>\n",
       "    </tr>\n",
       "    <tr>\n",
       "      <th>3</th>\n",
       "      <td>False</td>\n",
       "      <td>59</td>\n",
       "      <td>rowEg</td>\n",
       "      <td>2022-02-06</td>\n",
       "    </tr>\n",
       "    <tr>\n",
       "      <th>4</th>\n",
       "      <td>True</td>\n",
       "      <td>60</td>\n",
       "      <td>rowEg</td>\n",
       "      <td>2022-02-06</td>\n",
       "    </tr>\n",
       "    <tr>\n",
       "      <th>5</th>\n",
       "      <td>True</td>\n",
       "      <td>63</td>\n",
       "      <td>rowEg</td>\n",
       "      <td>2022-02-06</td>\n",
       "    </tr>\n",
       "    <tr>\n",
       "      <th>6</th>\n",
       "      <td>True</td>\n",
       "      <td>61</td>\n",
       "      <td>rowEg</td>\n",
       "      <td>2022-02-06</td>\n",
       "    </tr>\n",
       "    <tr>\n",
       "      <th>7</th>\n",
       "      <td>True</td>\n",
       "      <td>128</td>\n",
       "      <td>rowEg</td>\n",
       "      <td>2022-02-06</td>\n",
       "    </tr>\n",
       "    <tr>\n",
       "      <th>8</th>\n",
       "      <td>False</td>\n",
       "      <td>112</td>\n",
       "      <td>rowEg</td>\n",
       "      <td>2022-02-06</td>\n",
       "    </tr>\n",
       "    <tr>\n",
       "      <th>9</th>\n",
       "      <td>True</td>\n",
       "      <td>110</td>\n",
       "      <td>rowEg</td>\n",
       "      <td>2022-02-06</td>\n",
       "    </tr>\n",
       "    <tr>\n",
       "      <th>10</th>\n",
       "      <td>True</td>\n",
       "      <td>81</td>\n",
       "      <td>rowEg</td>\n",
       "      <td>2022-02-06</td>\n",
       "    </tr>\n",
       "    <tr>\n",
       "      <th>11</th>\n",
       "      <td>True</td>\n",
       "      <td>102</td>\n",
       "      <td>rowEg</td>\n",
       "      <td>2022-02-06</td>\n",
       "    </tr>\n",
       "    <tr>\n",
       "      <th>12</th>\n",
       "      <td>True</td>\n",
       "      <td>121</td>\n",
       "      <td>rowEg</td>\n",
       "      <td>2022-02-06</td>\n",
       "    </tr>\n",
       "    <tr>\n",
       "      <th>13</th>\n",
       "      <td>True</td>\n",
       "      <td>93</td>\n",
       "      <td>rowEg</td>\n",
       "      <td>2022-02-06</td>\n",
       "    </tr>\n",
       "    <tr>\n",
       "      <th>14</th>\n",
       "      <td>True</td>\n",
       "      <td>113</td>\n",
       "      <td>rowEg</td>\n",
       "      <td>2022-02-06</td>\n",
       "    </tr>\n",
       "    <tr>\n",
       "      <th>15</th>\n",
       "      <td>True</td>\n",
       "      <td>73</td>\n",
       "      <td>rowEg</td>\n",
       "      <td>2022-02-06</td>\n",
       "    </tr>\n",
       "    <tr>\n",
       "      <th>16</th>\n",
       "      <td>True</td>\n",
       "      <td>69</td>\n",
       "      <td>rowEg</td>\n",
       "      <td>2022-02-06</td>\n",
       "    </tr>\n",
       "    <tr>\n",
       "      <th>17</th>\n",
       "      <td>True</td>\n",
       "      <td>87</td>\n",
       "      <td>rowEg</td>\n",
       "      <td>2022-02-06</td>\n",
       "    </tr>\n",
       "    <tr>\n",
       "      <th>18</th>\n",
       "      <td>True</td>\n",
       "      <td>62</td>\n",
       "      <td>rowEg</td>\n",
       "      <td>2022-02-06</td>\n",
       "    </tr>\n",
       "    <tr>\n",
       "      <th>19</th>\n",
       "      <td>False</td>\n",
       "      <td>92</td>\n",
       "      <td>rowEg</td>\n",
       "      <td>2022-02-06</td>\n",
       "    </tr>\n",
       "    <tr>\n",
       "      <th>20</th>\n",
       "      <td>True</td>\n",
       "      <td>89</td>\n",
       "      <td>rowEg</td>\n",
       "      <td>2022-02-06</td>\n",
       "    </tr>\n",
       "    <tr>\n",
       "      <th>21</th>\n",
       "      <td>True</td>\n",
       "      <td>78</td>\n",
       "      <td>rowEg</td>\n",
       "      <td>2022-02-06</td>\n",
       "    </tr>\n",
       "    <tr>\n",
       "      <th>22</th>\n",
       "      <td>True</td>\n",
       "      <td>116</td>\n",
       "      <td>rowEg</td>\n",
       "      <td>2022-02-06</td>\n",
       "    </tr>\n",
       "    <tr>\n",
       "      <th>23</th>\n",
       "      <td>True</td>\n",
       "      <td>79</td>\n",
       "      <td>rowEg</td>\n",
       "      <td>2022-02-06</td>\n",
       "    </tr>\n",
       "  </tbody>\n",
       "</table>\n",
       "</div>"
      ],
      "text/plain": [
       "    error_included  number_of_clusters Methods       Date\n",
       "0             True                  51   rowEg 2022-02-06\n",
       "1             True                  45   rowEg 2022-02-06\n",
       "2             True                  76   rowEg 2022-02-06\n",
       "3            False                  59   rowEg 2022-02-06\n",
       "4             True                  60   rowEg 2022-02-06\n",
       "5             True                  63   rowEg 2022-02-06\n",
       "6             True                  61   rowEg 2022-02-06\n",
       "7             True                 128   rowEg 2022-02-06\n",
       "8            False                 112   rowEg 2022-02-06\n",
       "9             True                 110   rowEg 2022-02-06\n",
       "10            True                  81   rowEg 2022-02-06\n",
       "11            True                 102   rowEg 2022-02-06\n",
       "12            True                 121   rowEg 2022-02-06\n",
       "13            True                  93   rowEg 2022-02-06\n",
       "14            True                 113   rowEg 2022-02-06\n",
       "15            True                  73   rowEg 2022-02-06\n",
       "16            True                  69   rowEg 2022-02-06\n",
       "17            True                  87   rowEg 2022-02-06\n",
       "18            True                  62   rowEg 2022-02-06\n",
       "19           False                  92   rowEg 2022-02-06\n",
       "20            True                  89   rowEg 2022-02-06\n",
       "21            True                  78   rowEg 2022-02-06\n",
       "22            True                 116   rowEg 2022-02-06\n",
       "23            True                  79   rowEg 2022-02-06"
      ]
     },
     "execution_count": 87,
     "metadata": {},
     "output_type": "execute_result"
    }
   ],
   "source": [
    "evaluateErrorList(row_eG, test_info).assign(Methods= ['rowEg'] * len(row_eG), Date = pd.to_datetime(test_info.Date.values) )"
   ]
  },
  {
   "cell_type": "code",
   "execution_count": 60,
   "metadata": {},
   "outputs": [
    {
     "data": {
      "text/plain": [
       "error_included          0.833333\n",
       "number_of_clusters    107.541667\n",
       "dtype: float64"
      ]
     },
     "execution_count": 60,
     "metadata": {},
     "output_type": "execute_result"
    }
   ],
   "source": [
    "evaluateErrorList(col_eG, test_info).mean()"
   ]
  },
  {
   "cell_type": "code",
   "execution_count": 59,
   "metadata": {},
   "outputs": [
    {
     "data": {
      "text/plain": [
       "error_included         0.833333\n",
       "number_of_clusters    97.833333\n",
       "dtype: float64"
      ]
     },
     "execution_count": 59,
     "metadata": {},
     "output_type": "execute_result"
    }
   ],
   "source": [
    "evaluateErrorList(sub_eG, test_info).mean()"
   ]
  },
  {
   "cell_type": "code",
   "execution_count": 71,
   "metadata": {},
   "outputs": [
    {
     "data": {
      "text/plain": [
       "error_included         0.833333\n",
       "number_of_clusters    32.416667\n",
       "dtype: float64"
      ]
     },
     "execution_count": 71,
     "metadata": {},
     "output_type": "execute_result"
    }
   ],
   "source": [
    "aug_mer_fil_maj = augmented_merge_majority_filter(3)\n",
    "evaluateErrorList([aug_mer_fil_maj.filter_merge([sub_eG[i], row_eG[i], col_eG[i]]) for i in range(len(sub_std))], test_info).mean()"
   ]
  },
  {
   "cell_type": "code",
   "execution_count": 72,
   "metadata": {},
   "outputs": [
    {
     "data": {
      "text/plain": [
       "error_included        0.625000\n",
       "number_of_clusters    3.958333\n",
       "dtype: float64"
      ]
     },
     "execution_count": 72,
     "metadata": {},
     "output_type": "execute_result"
    }
   ],
   "source": [
    "evaluateErrorList([aug_mer_fil.filter_merge([sub_eG[i], row_eG[i], col_eG[i]]) for i in range(len(sub_std))], test_info).mean()"
   ]
  }
 ],
 "metadata": {
  "kernelspec": {
   "display_name": "Python 3.10.6 64-bit",
   "language": "python",
   "name": "python3"
  },
  "language_info": {
   "codemirror_mode": {
    "name": "ipython",
    "version": 3
   },
   "file_extension": ".py",
   "mimetype": "text/x-python",
   "name": "python",
   "nbconvert_exporter": "python",
   "pygments_lexer": "ipython3",
   "version": "3.10.6"
  },
  "orig_nbformat": 4,
  "vscode": {
   "interpreter": {
    "hash": "401764131afc80d0f5900e3a08758b8864e6a0c730575e7a4a5592be8e3cc1c7"
   }
  }
 },
 "nbformat": 4,
 "nbformat_minor": 2
}
